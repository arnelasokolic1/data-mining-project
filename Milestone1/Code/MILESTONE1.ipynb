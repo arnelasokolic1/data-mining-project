{
 "cells": [
  {
   "cell_type": "code",
   "execution_count": 1,
   "id": "502e7e98",
   "metadata": {},
   "outputs": [
    {
     "name": "stdout",
     "output_type": "stream",
     "text": [
      "                                         Poster_Link  \\\n",
      "0  https://m.media-amazon.com/images/M/MV5BMDFkYT...   \n",
      "1  https://m.media-amazon.com/images/M/MV5BM2MyNj...   \n",
      "2  https://m.media-amazon.com/images/M/MV5BMTMxNT...   \n",
      "3  https://m.media-amazon.com/images/M/MV5BMWMwMG...   \n",
      "4  https://m.media-amazon.com/images/M/MV5BMWU4N2...   \n",
      "\n",
      "               Series_Title Released_Year Certificate  Runtime  \\\n",
      "0  The Shawshank Redemption          1994           A  142 min   \n",
      "1             The Godfather          1972           A  175 min   \n",
      "2           The Dark Knight          2008          UA  152 min   \n",
      "3    The Godfather: Part II          1974           A  202 min   \n",
      "4              12 Angry Men          1957           U   96 min   \n",
      "\n",
      "                  Genre  IMDB_Rating  \\\n",
      "0                 Drama          9.3   \n",
      "1          Crime, Drama          9.2   \n",
      "2  Action, Crime, Drama          9.0   \n",
      "3          Crime, Drama          9.0   \n",
      "4          Crime, Drama          9.0   \n",
      "\n",
      "                                            Overview  Meta_score  \\\n",
      "0  Two imprisoned men bond over a number of years...        80.0   \n",
      "1  An organized crime dynasty's aging patriarch t...       100.0   \n",
      "2  When the menace known as the Joker wreaks havo...        84.0   \n",
      "3  The early life and career of Vito Corleone in ...        90.0   \n",
      "4  A jury holdout attempts to prevent a miscarria...        96.0   \n",
      "\n",
      "               Director           Star1           Star2          Star3  \\\n",
      "0        Frank Darabont     Tim Robbins  Morgan Freeman     Bob Gunton   \n",
      "1  Francis Ford Coppola   Marlon Brando       Al Pacino     James Caan   \n",
      "2     Christopher Nolan  Christian Bale    Heath Ledger  Aaron Eckhart   \n",
      "3  Francis Ford Coppola       Al Pacino  Robert De Niro  Robert Duvall   \n",
      "4          Sidney Lumet     Henry Fonda     Lee J. Cobb  Martin Balsam   \n",
      "\n",
      "            Star4  No_of_Votes        Gross  \n",
      "0  William Sadler      2343110   28,341,469  \n",
      "1    Diane Keaton      1620367  134,966,411  \n",
      "2   Michael Caine      2303232  534,858,444  \n",
      "3    Diane Keaton      1129952   57,300,000  \n",
      "4    John Fiedler       689845    4,360,000  \n"
     ]
    }
   ],
   "source": [
    "import pandas as pd \n",
    "\n",
    "# Load the dataset from the given path\n",
    "file_path = r\"C:\\Users\\Korisnik\\Downloads\\archive\\imdb_top_1000.csv\"\n",
    "\n",
    "# Read the CSV file\n",
    "df = pd.read_csv(file_path)\n",
    "\n",
    "# Display the first 5 rows\n",
    "print(df.head())\n"
   ]
  },
  {
   "cell_type": "code",
   "execution_count": 2,
   "id": "e36205c0",
   "metadata": {},
   "outputs": [
    {
     "data": {
      "text/html": [
       "<div>\n",
       "<style scoped>\n",
       "    .dataframe tbody tr th:only-of-type {\n",
       "        vertical-align: middle;\n",
       "    }\n",
       "\n",
       "    .dataframe tbody tr th {\n",
       "        vertical-align: top;\n",
       "    }\n",
       "\n",
       "    .dataframe thead th {\n",
       "        text-align: right;\n",
       "    }\n",
       "</style>\n",
       "<table border=\"1\" class=\"dataframe\">\n",
       "  <thead>\n",
       "    <tr style=\"text-align: right;\">\n",
       "      <th></th>\n",
       "      <th>Poster_Link</th>\n",
       "      <th>Series_Title</th>\n",
       "      <th>Released_Year</th>\n",
       "      <th>Certificate</th>\n",
       "      <th>Runtime</th>\n",
       "      <th>Genre</th>\n",
       "      <th>IMDB_Rating</th>\n",
       "      <th>Overview</th>\n",
       "      <th>Meta_score</th>\n",
       "      <th>Director</th>\n",
       "      <th>Star1</th>\n",
       "      <th>Star2</th>\n",
       "      <th>Star3</th>\n",
       "      <th>Star4</th>\n",
       "      <th>No_of_Votes</th>\n",
       "      <th>Gross</th>\n",
       "    </tr>\n",
       "  </thead>\n",
       "  <tbody>\n",
       "    <tr>\n",
       "      <th>0</th>\n",
       "      <td>https://m.media-amazon.com/images/M/MV5BMDFkYT...</td>\n",
       "      <td>The Shawshank Redemption</td>\n",
       "      <td>1994</td>\n",
       "      <td>A</td>\n",
       "      <td>142 min</td>\n",
       "      <td>Drama</td>\n",
       "      <td>9.3</td>\n",
       "      <td>Two imprisoned men bond over a number of years...</td>\n",
       "      <td>80.0</td>\n",
       "      <td>Frank Darabont</td>\n",
       "      <td>Tim Robbins</td>\n",
       "      <td>Morgan Freeman</td>\n",
       "      <td>Bob Gunton</td>\n",
       "      <td>William Sadler</td>\n",
       "      <td>2343110</td>\n",
       "      <td>28,341,469</td>\n",
       "    </tr>\n",
       "    <tr>\n",
       "      <th>1</th>\n",
       "      <td>https://m.media-amazon.com/images/M/MV5BM2MyNj...</td>\n",
       "      <td>The Godfather</td>\n",
       "      <td>1972</td>\n",
       "      <td>A</td>\n",
       "      <td>175 min</td>\n",
       "      <td>Crime, Drama</td>\n",
       "      <td>9.2</td>\n",
       "      <td>An organized crime dynasty's aging patriarch t...</td>\n",
       "      <td>100.0</td>\n",
       "      <td>Francis Ford Coppola</td>\n",
       "      <td>Marlon Brando</td>\n",
       "      <td>Al Pacino</td>\n",
       "      <td>James Caan</td>\n",
       "      <td>Diane Keaton</td>\n",
       "      <td>1620367</td>\n",
       "      <td>134,966,411</td>\n",
       "    </tr>\n",
       "    <tr>\n",
       "      <th>2</th>\n",
       "      <td>https://m.media-amazon.com/images/M/MV5BMTMxNT...</td>\n",
       "      <td>The Dark Knight</td>\n",
       "      <td>2008</td>\n",
       "      <td>UA</td>\n",
       "      <td>152 min</td>\n",
       "      <td>Action, Crime, Drama</td>\n",
       "      <td>9.0</td>\n",
       "      <td>When the menace known as the Joker wreaks havo...</td>\n",
       "      <td>84.0</td>\n",
       "      <td>Christopher Nolan</td>\n",
       "      <td>Christian Bale</td>\n",
       "      <td>Heath Ledger</td>\n",
       "      <td>Aaron Eckhart</td>\n",
       "      <td>Michael Caine</td>\n",
       "      <td>2303232</td>\n",
       "      <td>534,858,444</td>\n",
       "    </tr>\n",
       "    <tr>\n",
       "      <th>3</th>\n",
       "      <td>https://m.media-amazon.com/images/M/MV5BMWMwMG...</td>\n",
       "      <td>The Godfather: Part II</td>\n",
       "      <td>1974</td>\n",
       "      <td>A</td>\n",
       "      <td>202 min</td>\n",
       "      <td>Crime, Drama</td>\n",
       "      <td>9.0</td>\n",
       "      <td>The early life and career of Vito Corleone in ...</td>\n",
       "      <td>90.0</td>\n",
       "      <td>Francis Ford Coppola</td>\n",
       "      <td>Al Pacino</td>\n",
       "      <td>Robert De Niro</td>\n",
       "      <td>Robert Duvall</td>\n",
       "      <td>Diane Keaton</td>\n",
       "      <td>1129952</td>\n",
       "      <td>57,300,000</td>\n",
       "    </tr>\n",
       "    <tr>\n",
       "      <th>4</th>\n",
       "      <td>https://m.media-amazon.com/images/M/MV5BMWU4N2...</td>\n",
       "      <td>12 Angry Men</td>\n",
       "      <td>1957</td>\n",
       "      <td>U</td>\n",
       "      <td>96 min</td>\n",
       "      <td>Crime, Drama</td>\n",
       "      <td>9.0</td>\n",
       "      <td>A jury holdout attempts to prevent a miscarria...</td>\n",
       "      <td>96.0</td>\n",
       "      <td>Sidney Lumet</td>\n",
       "      <td>Henry Fonda</td>\n",
       "      <td>Lee J. Cobb</td>\n",
       "      <td>Martin Balsam</td>\n",
       "      <td>John Fiedler</td>\n",
       "      <td>689845</td>\n",
       "      <td>4,360,000</td>\n",
       "    </tr>\n",
       "    <tr>\n",
       "      <th>5</th>\n",
       "      <td>https://m.media-amazon.com/images/M/MV5BNzA5ZD...</td>\n",
       "      <td>The Lord of the Rings: The Return of the King</td>\n",
       "      <td>2003</td>\n",
       "      <td>U</td>\n",
       "      <td>201 min</td>\n",
       "      <td>Action, Adventure, Drama</td>\n",
       "      <td>8.9</td>\n",
       "      <td>Gandalf and Aragorn lead the World of Men agai...</td>\n",
       "      <td>94.0</td>\n",
       "      <td>Peter Jackson</td>\n",
       "      <td>Elijah Wood</td>\n",
       "      <td>Viggo Mortensen</td>\n",
       "      <td>Ian McKellen</td>\n",
       "      <td>Orlando Bloom</td>\n",
       "      <td>1642758</td>\n",
       "      <td>377,845,905</td>\n",
       "    </tr>\n",
       "    <tr>\n",
       "      <th>6</th>\n",
       "      <td>https://m.media-amazon.com/images/M/MV5BNGNhMD...</td>\n",
       "      <td>Pulp Fiction</td>\n",
       "      <td>1994</td>\n",
       "      <td>A</td>\n",
       "      <td>154 min</td>\n",
       "      <td>Crime, Drama</td>\n",
       "      <td>8.9</td>\n",
       "      <td>The lives of two mob hitmen, a boxer, a gangst...</td>\n",
       "      <td>94.0</td>\n",
       "      <td>Quentin Tarantino</td>\n",
       "      <td>John Travolta</td>\n",
       "      <td>Uma Thurman</td>\n",
       "      <td>Samuel L. Jackson</td>\n",
       "      <td>Bruce Willis</td>\n",
       "      <td>1826188</td>\n",
       "      <td>107,928,762</td>\n",
       "    </tr>\n",
       "    <tr>\n",
       "      <th>7</th>\n",
       "      <td>https://m.media-amazon.com/images/M/MV5BNDE4OT...</td>\n",
       "      <td>Schindler's List</td>\n",
       "      <td>1993</td>\n",
       "      <td>A</td>\n",
       "      <td>195 min</td>\n",
       "      <td>Biography, Drama, History</td>\n",
       "      <td>8.9</td>\n",
       "      <td>In German-occupied Poland during World War II,...</td>\n",
       "      <td>94.0</td>\n",
       "      <td>Steven Spielberg</td>\n",
       "      <td>Liam Neeson</td>\n",
       "      <td>Ralph Fiennes</td>\n",
       "      <td>Ben Kingsley</td>\n",
       "      <td>Caroline Goodall</td>\n",
       "      <td>1213505</td>\n",
       "      <td>96,898,818</td>\n",
       "    </tr>\n",
       "    <tr>\n",
       "      <th>8</th>\n",
       "      <td>https://m.media-amazon.com/images/M/MV5BMjAxMz...</td>\n",
       "      <td>Inception</td>\n",
       "      <td>2010</td>\n",
       "      <td>UA</td>\n",
       "      <td>148 min</td>\n",
       "      <td>Action, Adventure, Sci-Fi</td>\n",
       "      <td>8.8</td>\n",
       "      <td>A thief who steals corporate secrets through t...</td>\n",
       "      <td>74.0</td>\n",
       "      <td>Christopher Nolan</td>\n",
       "      <td>Leonardo DiCaprio</td>\n",
       "      <td>Joseph Gordon-Levitt</td>\n",
       "      <td>Elliot Page</td>\n",
       "      <td>Ken Watanabe</td>\n",
       "      <td>2067042</td>\n",
       "      <td>292,576,195</td>\n",
       "    </tr>\n",
       "    <tr>\n",
       "      <th>9</th>\n",
       "      <td>https://m.media-amazon.com/images/M/MV5BMmEzNT...</td>\n",
       "      <td>Fight Club</td>\n",
       "      <td>1999</td>\n",
       "      <td>A</td>\n",
       "      <td>139 min</td>\n",
       "      <td>Drama</td>\n",
       "      <td>8.8</td>\n",
       "      <td>An insomniac office worker and a devil-may-car...</td>\n",
       "      <td>66.0</td>\n",
       "      <td>David Fincher</td>\n",
       "      <td>Brad Pitt</td>\n",
       "      <td>Edward Norton</td>\n",
       "      <td>Meat Loaf</td>\n",
       "      <td>Zach Grenier</td>\n",
       "      <td>1854740</td>\n",
       "      <td>37,030,102</td>\n",
       "    </tr>\n",
       "  </tbody>\n",
       "</table>\n",
       "</div>"
      ],
      "text/plain": [
       "                                         Poster_Link  \\\n",
       "0  https://m.media-amazon.com/images/M/MV5BMDFkYT...   \n",
       "1  https://m.media-amazon.com/images/M/MV5BM2MyNj...   \n",
       "2  https://m.media-amazon.com/images/M/MV5BMTMxNT...   \n",
       "3  https://m.media-amazon.com/images/M/MV5BMWMwMG...   \n",
       "4  https://m.media-amazon.com/images/M/MV5BMWU4N2...   \n",
       "5  https://m.media-amazon.com/images/M/MV5BNzA5ZD...   \n",
       "6  https://m.media-amazon.com/images/M/MV5BNGNhMD...   \n",
       "7  https://m.media-amazon.com/images/M/MV5BNDE4OT...   \n",
       "8  https://m.media-amazon.com/images/M/MV5BMjAxMz...   \n",
       "9  https://m.media-amazon.com/images/M/MV5BMmEzNT...   \n",
       "\n",
       "                                    Series_Title Released_Year Certificate  \\\n",
       "0                       The Shawshank Redemption          1994           A   \n",
       "1                                  The Godfather          1972           A   \n",
       "2                                The Dark Knight          2008          UA   \n",
       "3                         The Godfather: Part II          1974           A   \n",
       "4                                   12 Angry Men          1957           U   \n",
       "5  The Lord of the Rings: The Return of the King          2003           U   \n",
       "6                                   Pulp Fiction          1994           A   \n",
       "7                               Schindler's List          1993           A   \n",
       "8                                      Inception          2010          UA   \n",
       "9                                     Fight Club          1999           A   \n",
       "\n",
       "   Runtime                      Genre  IMDB_Rating  \\\n",
       "0  142 min                      Drama          9.3   \n",
       "1  175 min               Crime, Drama          9.2   \n",
       "2  152 min       Action, Crime, Drama          9.0   \n",
       "3  202 min               Crime, Drama          9.0   \n",
       "4   96 min               Crime, Drama          9.0   \n",
       "5  201 min   Action, Adventure, Drama          8.9   \n",
       "6  154 min               Crime, Drama          8.9   \n",
       "7  195 min  Biography, Drama, History          8.9   \n",
       "8  148 min  Action, Adventure, Sci-Fi          8.8   \n",
       "9  139 min                      Drama          8.8   \n",
       "\n",
       "                                            Overview  Meta_score  \\\n",
       "0  Two imprisoned men bond over a number of years...        80.0   \n",
       "1  An organized crime dynasty's aging patriarch t...       100.0   \n",
       "2  When the menace known as the Joker wreaks havo...        84.0   \n",
       "3  The early life and career of Vito Corleone in ...        90.0   \n",
       "4  A jury holdout attempts to prevent a miscarria...        96.0   \n",
       "5  Gandalf and Aragorn lead the World of Men agai...        94.0   \n",
       "6  The lives of two mob hitmen, a boxer, a gangst...        94.0   \n",
       "7  In German-occupied Poland during World War II,...        94.0   \n",
       "8  A thief who steals corporate secrets through t...        74.0   \n",
       "9  An insomniac office worker and a devil-may-car...        66.0   \n",
       "\n",
       "               Director              Star1                 Star2  \\\n",
       "0        Frank Darabont        Tim Robbins        Morgan Freeman   \n",
       "1  Francis Ford Coppola      Marlon Brando             Al Pacino   \n",
       "2     Christopher Nolan     Christian Bale          Heath Ledger   \n",
       "3  Francis Ford Coppola          Al Pacino        Robert De Niro   \n",
       "4          Sidney Lumet        Henry Fonda           Lee J. Cobb   \n",
       "5         Peter Jackson        Elijah Wood       Viggo Mortensen   \n",
       "6     Quentin Tarantino      John Travolta           Uma Thurman   \n",
       "7      Steven Spielberg        Liam Neeson         Ralph Fiennes   \n",
       "8     Christopher Nolan  Leonardo DiCaprio  Joseph Gordon-Levitt   \n",
       "9         David Fincher          Brad Pitt         Edward Norton   \n",
       "\n",
       "               Star3             Star4  No_of_Votes        Gross  \n",
       "0         Bob Gunton    William Sadler      2343110   28,341,469  \n",
       "1         James Caan      Diane Keaton      1620367  134,966,411  \n",
       "2      Aaron Eckhart     Michael Caine      2303232  534,858,444  \n",
       "3      Robert Duvall      Diane Keaton      1129952   57,300,000  \n",
       "4      Martin Balsam      John Fiedler       689845    4,360,000  \n",
       "5       Ian McKellen     Orlando Bloom      1642758  377,845,905  \n",
       "6  Samuel L. Jackson      Bruce Willis      1826188  107,928,762  \n",
       "7       Ben Kingsley  Caroline Goodall      1213505   96,898,818  \n",
       "8        Elliot Page      Ken Watanabe      2067042  292,576,195  \n",
       "9          Meat Loaf      Zach Grenier      1854740   37,030,102  "
      ]
     },
     "execution_count": 2,
     "metadata": {},
     "output_type": "execute_result"
    }
   ],
   "source": [
    "df.head (10)"
   ]
  },
  {
   "cell_type": "code",
   "execution_count": 3,
   "id": "f53e05bf",
   "metadata": {},
   "outputs": [
    {
     "name": "stdout",
     "output_type": "stream",
     "text": [
      "<class 'pandas.core.frame.DataFrame'>\n",
      "RangeIndex: 1000 entries, 0 to 999\n",
      "Data columns (total 16 columns):\n",
      " #   Column         Non-Null Count  Dtype  \n",
      "---  ------         --------------  -----  \n",
      " 0   Poster_Link    1000 non-null   object \n",
      " 1   Series_Title   1000 non-null   object \n",
      " 2   Released_Year  1000 non-null   object \n",
      " 3   Certificate    899 non-null    object \n",
      " 4   Runtime        1000 non-null   object \n",
      " 5   Genre          1000 non-null   object \n",
      " 6   IMDB_Rating    1000 non-null   float64\n",
      " 7   Overview       1000 non-null   object \n",
      " 8   Meta_score     843 non-null    float64\n",
      " 9   Director       1000 non-null   object \n",
      " 10  Star1          1000 non-null   object \n",
      " 11  Star2          1000 non-null   object \n",
      " 12  Star3          1000 non-null   object \n",
      " 13  Star4          1000 non-null   object \n",
      " 14  No_of_Votes    1000 non-null   int64  \n",
      " 15  Gross          831 non-null    object \n",
      "dtypes: float64(2), int64(1), object(13)\n",
      "memory usage: 125.1+ KB\n"
     ]
    }
   ],
   "source": [
    "df.info()"
   ]
  },
  {
   "cell_type": "code",
   "execution_count": 4,
   "id": "398dbf41",
   "metadata": {},
   "outputs": [
    {
     "data": {
      "text/html": [
       "<div>\n",
       "<style scoped>\n",
       "    .dataframe tbody tr th:only-of-type {\n",
       "        vertical-align: middle;\n",
       "    }\n",
       "\n",
       "    .dataframe tbody tr th {\n",
       "        vertical-align: top;\n",
       "    }\n",
       "\n",
       "    .dataframe thead th {\n",
       "        text-align: right;\n",
       "    }\n",
       "</style>\n",
       "<table border=\"1\" class=\"dataframe\">\n",
       "  <thead>\n",
       "    <tr style=\"text-align: right;\">\n",
       "      <th></th>\n",
       "      <th>IMDB_Rating</th>\n",
       "      <th>Meta_score</th>\n",
       "      <th>No_of_Votes</th>\n",
       "    </tr>\n",
       "  </thead>\n",
       "  <tbody>\n",
       "    <tr>\n",
       "      <th>count</th>\n",
       "      <td>1000.000000</td>\n",
       "      <td>843.000000</td>\n",
       "      <td>1.000000e+03</td>\n",
       "    </tr>\n",
       "    <tr>\n",
       "      <th>mean</th>\n",
       "      <td>7.949300</td>\n",
       "      <td>77.971530</td>\n",
       "      <td>2.736929e+05</td>\n",
       "    </tr>\n",
       "    <tr>\n",
       "      <th>std</th>\n",
       "      <td>0.275491</td>\n",
       "      <td>12.376099</td>\n",
       "      <td>3.273727e+05</td>\n",
       "    </tr>\n",
       "    <tr>\n",
       "      <th>min</th>\n",
       "      <td>7.600000</td>\n",
       "      <td>28.000000</td>\n",
       "      <td>2.508800e+04</td>\n",
       "    </tr>\n",
       "    <tr>\n",
       "      <th>25%</th>\n",
       "      <td>7.700000</td>\n",
       "      <td>70.000000</td>\n",
       "      <td>5.552625e+04</td>\n",
       "    </tr>\n",
       "    <tr>\n",
       "      <th>50%</th>\n",
       "      <td>7.900000</td>\n",
       "      <td>79.000000</td>\n",
       "      <td>1.385485e+05</td>\n",
       "    </tr>\n",
       "    <tr>\n",
       "      <th>75%</th>\n",
       "      <td>8.100000</td>\n",
       "      <td>87.000000</td>\n",
       "      <td>3.741612e+05</td>\n",
       "    </tr>\n",
       "    <tr>\n",
       "      <th>max</th>\n",
       "      <td>9.300000</td>\n",
       "      <td>100.000000</td>\n",
       "      <td>2.343110e+06</td>\n",
       "    </tr>\n",
       "  </tbody>\n",
       "</table>\n",
       "</div>"
      ],
      "text/plain": [
       "       IMDB_Rating  Meta_score   No_of_Votes\n",
       "count  1000.000000  843.000000  1.000000e+03\n",
       "mean      7.949300   77.971530  2.736929e+05\n",
       "std       0.275491   12.376099  3.273727e+05\n",
       "min       7.600000   28.000000  2.508800e+04\n",
       "25%       7.700000   70.000000  5.552625e+04\n",
       "50%       7.900000   79.000000  1.385485e+05\n",
       "75%       8.100000   87.000000  3.741612e+05\n",
       "max       9.300000  100.000000  2.343110e+06"
      ]
     },
     "execution_count": 4,
     "metadata": {},
     "output_type": "execute_result"
    }
   ],
   "source": [
    "df.describe()"
   ]
  },
  {
   "cell_type": "code",
   "execution_count": 5,
   "id": "a4f4c0b7",
   "metadata": {},
   "outputs": [
    {
     "name": "stdout",
     "output_type": "stream",
     "text": [
      "Total numbers of records: 1000\n",
      "1000\n",
      "16\n"
     ]
    }
   ],
   "source": [
    "num_records = len(df)\n",
    "\n",
    "print('Total numbers of records: {}'.format(num_records))\n",
    "\n",
    "print(df.shape[0])\n",
    "print(df.shape[1])\n"
   ]
  },
  {
   "cell_type": "code",
   "execution_count": 6,
   "id": "81a64da3",
   "metadata": {},
   "outputs": [
    {
     "name": "stdout",
     "output_type": "stream",
     "text": [
      "Poster_Link        0\n",
      "Series_Title       0\n",
      "Released_Year      0\n",
      "Certificate      101\n",
      "Runtime            0\n",
      "Genre              0\n",
      "IMDB_Rating        0\n",
      "Overview           0\n",
      "Meta_score       157\n",
      "Director           0\n",
      "Star1              0\n",
      "Star2              0\n",
      "Star3              0\n",
      "Star4              0\n",
      "No_of_Votes        0\n",
      "Gross            169\n",
      "dtype: int64\n",
      "False\n"
     ]
    }
   ],
   "source": [
    "# Check for missing values in the dataset\n",
    "print(df.isnull().sum())\n",
    "\n",
    "# Check for duplicate rows in the dataset\n",
    "print(df.duplicated().any())"
   ]
  },
  {
   "cell_type": "code",
   "execution_count": 10,
   "id": "2641f283",
   "metadata": {},
   "outputs": [
    {
     "name": "stdout",
     "output_type": "stream",
     "text": [
      "\n",
      "Statistics:\n",
      "Mean: 7.949299999999999\n",
      "Median: 7.9\n",
      "Mode: 7.7\n",
      "Midrange: 8.45\n",
      "Five-Number Summary: {'Minimum': 7.6, 'Q1': 7.7, 'Median': 7.9, 'Q3': 8.1, 'Maximum': 9.3}\n"
     ]
    },
    {
     "data": {
      "image/png": "[encoded data removed]",
      "text/plain": [
       "<Figure size 1000x500 with 1 Axes>"
      ]
     },
     "metadata": {},
     "output_type": "display_data"
    }
   ],
   "source": [
    "import pandas as pd\n",
    "import numpy as np\n",
    "import matplotlib.pyplot as plt\n",
    "import seaborn as sns\n",
    "\n",
    "# Load the dataset \n",
    "df = pd.read_csv(\"C:\\\\Users\\\\Korisnik\\\\Downloads\\\\archive\\\\imdb_top_1000.csv\")\n",
    "\n",
    "# Convert 'Runtime' column to numeric by removing ' min' and converting to float\n",
    "df[\"Runtime\"] = df[\"Runtime\"].str.replace(\" min\", \"\").astype(float)\n",
    "\n",
    "# Convert 'Gross' column to numeric by removing commas and converting to float\n",
    "df[\"Gross\"] = df[\"Gross\"].str.replace(\",\", \"\").astype(float)\n",
    "\n",
    "# Choose a numeric column for analysis\n",
    "numeric_column = \"IMDB_Rating\"  # You can change this to 'Meta_score', 'Runtime', or 'Gross'\n",
    "\n",
    "# Calculate statistics\n",
    "mean_value = df[numeric_column].mean()\n",
    "median_value = df[numeric_column].median()\n",
    "mode_value = df[numeric_column].mode()[0]\n",
    "midrange = (df[numeric_column].min() + df[numeric_column].max()) / 2\n",
    "\n",
    "# Compute quartiles\n",
    "q1 = df[numeric_column].quantile(0.25)\n",
    "q3 = df[numeric_column].quantile(0.75)\n",
    "min_value = df[numeric_column].min()\n",
    "max_value = df[numeric_column].max()\n",
    "\n",
    "# Five-number summary\n",
    "five_number_summary = {\n",
    "    \"Minimum\": min_value,\n",
    "    \"Q1\": q1,\n",
    "    \"Median\": median_value,\n",
    "    \"Q3\": q3,\n",
    "    \"Maximum\": max_value\n",
    "}\n",
    "\n",
    "# Print statistics\n",
    "print(\"\\nStatistics:\")\n",
    "print(f\"Mean: {mean_value}\")\n",
    "print(f\"Median: {median_value}\")\n",
    "print(f\"Mode: {mode_value}\")\n",
    "print(f\"Midrange: {midrange}\")\n",
    "print(f\"Five-Number Summary: {five_number_summary}\")\n",
    "\n",
    "# Visualizing distribution\n",
    "plt.figure(figsize=(10, 5))\n",
    "sns.histplot(df[numeric_column], bins=20, kde=True, color='blue')\n",
    "plt.xlabel(numeric_column)\n",
    "plt.ylabel(\"Frequency\")\n",
    "plt.title(f\"Distribution of {numeric_column}\")\n",
    "plt.show()\n"
   ]
  },
  {
   "cell_type": "code",
   "execution_count": 11,
   "id": "88640f57",
   "metadata": {},
   "outputs": [
    {
     "name": "stdout",
     "output_type": "stream",
     "text": [
      "Poster_Link      0\n",
      "Series_Title     0\n",
      "Released_Year    0\n",
      "Certificate      0\n",
      "Runtime          0\n",
      "Genre            0\n",
      "IMDB_Rating      0\n",
      "Overview         0\n",
      "Meta_score       0\n",
      "Director         0\n",
      "Star1            0\n",
      "Star2            0\n",
      "Star3            0\n",
      "Star4            0\n",
      "No_of_Votes      0\n",
      "Gross            0\n",
      "dtype: int64\n"
     ]
    }
   ],
   "source": [
    "import pandas as pd\n",
    "\n",
    "df = pd.read_csv(r\"C:\\Users\\Korisnik\\Downloads\\archive\\imdb_top_1000.csv\")\n",
    "\n",
    "# Filling missing numbers with mean\n",
    "df.fillna(df.mean(numeric_only=True), inplace=True)\n",
    "\n",
    "# Filling missing text with mode\n",
    "df.fillna(df.mode().iloc[0], inplace=True)\n",
    "\n",
    "print(df.isnull().sum())  \n"
   ]
  },
  {
   "cell_type": "code",
   "execution_count": 12,
   "id": "ce89228d",
   "metadata": {},
   "outputs": [
    {
     "name": "stdout",
     "output_type": "stream",
     "text": [
      "Duplicates before: 0\n",
      "Duplicates after: 0\n"
     ]
    }
   ],
   "source": [
    "print(\"Duplicates before:\", df.duplicated().sum())\n",
    "\n",
    "df.drop_duplicates(inplace=True)\n",
    "\n",
    "print(\"Duplicates after:\", df.duplicated().sum())"
   ]
  },
  {
   "cell_type": "code",
   "execution_count": 13,
   "id": "c3de31fc",
   "metadata": {},
   "outputs": [
    {
     "name": "stdout",
     "output_type": "stream",
     "text": [
      "Poster_Link       object\n",
      "Series_Title      object\n",
      "Released_Year      Int64\n",
      "Certificate       object\n",
      "Runtime           object\n",
      "Genre             object\n",
      "IMDB_Rating      float64\n",
      "Overview          object\n",
      "Meta_score       float64\n",
      "Director          object\n",
      "Star1             object\n",
      "Star2             object\n",
      "Star3             object\n",
      "Star4             object\n",
      "No_of_Votes        int64\n",
      "Gross             object\n",
      "dtype: object\n"
     ]
    }
   ],
   "source": [
    "# Convert 'Released_Year' to numeric, coercing errors to NaN\n",
    "df[\"Released_Year\"] = pd.to_numeric(df[\"Released_Year\"], errors='coerce')\n",
    "\n",
    "# Convert to integer while keeping NaN values\n",
    "df[\"Released_Year\"] = df[\"Released_Year\"].astype(\"Int64\")\n",
    "\n",
    "# Check new data types\n",
    "print(df.dtypes)\n"
   ]
  },
  {
   "cell_type": "code",
   "execution_count": 14,
   "id": "5adb3e5e",
   "metadata": {},
   "outputs": [
    {
     "data": {
      "image/png": "[encoded data removed]",
      "text/plain": [
       "<Figure size 640x480 with 1 Axes>"
      ]
     },
     "metadata": {},
     "output_type": "display_data"
    }
   ],
   "source": [
    "import matplotlib.pyplot as plt\n",
    "import seaborn as sns\n",
    "\n",
    "sns.boxplot(x=df[\"IMDB_Rating\"])\n",
    "plt.show()\n"
   ]
  },
  {
   "cell_type": "code",
   "execution_count": 15,
   "id": "d1d806ca",
   "metadata": {},
   "outputs": [
    {
     "data": {
      "image/png": "[encoded data removed]",
      "text/plain": [
       "<Figure size 640x480 with 1 Axes>"
      ]
     },
     "metadata": {},
     "output_type": "display_data"
    }
   ],
   "source": [
    "sns.histplot(df[\"IMDB_Rating\"], bins=10, kde=True)\n",
    "plt.show()\n"
   ]
  },
  {
   "cell_type": "code",
   "execution_count": 16,
   "id": "4ddc49ad",
   "metadata": {},
   "outputs": [
    {
     "data": {
      "image/png": "[encoded data removed]",
      "text/plain": [
       "<Figure size 640x480 with 1 Axes>"
      ]
     },
     "metadata": {},
     "output_type": "display_data"
    }
   ],
   "source": [
    "df[\"Decade\"] = (df[\"Released_Year\"] // 10) * 10\n",
    "df[\"Decade\"].value_counts().sort_index().plot(kind=\"bar\")\n",
    "plt.show()"
   ]
  },
  {
   "cell_type": "code",
   "execution_count": 17,
   "id": "e8602aa9",
   "metadata": {},
   "outputs": [
    {
     "name": "stdout",
     "output_type": "stream",
     "text": [
      "Poster_Link      0\n",
      "Series_Title     0\n",
      "Released_Year    1\n",
      "Certificate      0\n",
      "Runtime          0\n",
      "Genre            0\n",
      "IMDB_Rating      0\n",
      "Overview         0\n",
      "Meta_score       0\n",
      "Director         0\n",
      "Star1            0\n",
      "Star2            0\n",
      "Star3            0\n",
      "Star4            0\n",
      "No_of_Votes      0\n",
      "Gross            0\n",
      "Decade           1\n",
      "dtype: int64\n"
     ]
    }
   ],
   "source": [
    "print(df.isnull().sum())  # Check missing values in each column"
   ]
  },
  {
   "cell_type": "code",
   "execution_count": 18,
   "id": "e869d3bb",
   "metadata": {},
   "outputs": [],
   "source": [
    "most_common_year = df[\"Released_Year\"].mode()[0]\n",
    "df[\"Released_Year\"].fillna(most_common_year, inplace=True)\n"
   ]
  },
  {
   "cell_type": "code",
   "execution_count": 19,
   "id": "5226f4b6",
   "metadata": {},
   "outputs": [],
   "source": [
    "df[\"Decade\"] = (df[\"Released_Year\"] // 10) * 10\n"
   ]
  },
  {
   "cell_type": "code",
   "execution_count": 20,
   "id": "5ae28885",
   "metadata": {},
   "outputs": [
    {
     "name": "stdout",
     "output_type": "stream",
     "text": [
      "Poster_Link      0\n",
      "Series_Title     0\n",
      "Released_Year    0\n",
      "Certificate      0\n",
      "Runtime          0\n",
      "Genre            0\n",
      "IMDB_Rating      0\n",
      "Overview         0\n",
      "Meta_score       0\n",
      "Director         0\n",
      "Star1            0\n",
      "Star2            0\n",
      "Star3            0\n",
      "Star4            0\n",
      "No_of_Votes      0\n",
      "Gross            0\n",
      "Decade           0\n",
      "dtype: int64\n"
     ]
    }
   ],
   "source": [
    "print(df.isnull().sum())  "
   ]
  },
  {
   "cell_type": "code",
   "execution_count": 21,
   "id": "1231f927",
   "metadata": {},
   "outputs": [],
   "source": [
    "df[\"Gross\"] = df[\"Gross\"].replace(\",\", \"\", regex=True).astype(float)\n"
   ]
  },
  {
   "cell_type": "code",
   "execution_count": 22,
   "id": "844dacd9",
   "metadata": {},
   "outputs": [
    {
     "name": "stdout",
     "output_type": "stream",
     "text": [
      "<class 'pandas.core.frame.DataFrame'>\n",
      "RangeIndex: 1000 entries, 0 to 999\n",
      "Data columns (total 17 columns):\n",
      " #   Column         Non-Null Count  Dtype  \n",
      "---  ------         --------------  -----  \n",
      " 0   Poster_Link    1000 non-null   object \n",
      " 1   Series_Title   1000 non-null   object \n",
      " 2   Released_Year  1000 non-null   Int64  \n",
      " 3   Certificate    1000 non-null   object \n",
      " 4   Runtime        1000 non-null   object \n",
      " 5   Genre          1000 non-null   object \n",
      " 6   IMDB_Rating    1000 non-null   float64\n",
      " 7   Overview       1000 non-null   object \n",
      " 8   Meta_score     1000 non-null   float64\n",
      " 9   Director       1000 non-null   object \n",
      " 10  Star1          1000 non-null   object \n",
      " 11  Star2          1000 non-null   object \n",
      " 12  Star3          1000 non-null   object \n",
      " 13  Star4          1000 non-null   object \n",
      " 14  No_of_Votes    1000 non-null   int64  \n",
      " 15  Gross          1000 non-null   float64\n",
      " 16  Decade         1000 non-null   Int64  \n",
      "dtypes: Int64(2), float64(3), int64(1), object(11)\n",
      "memory usage: 134.9+ KB\n"
     ]
    }
   ],
   "source": [
    "df.info()"
   ]
  },
  {
   "cell_type": "code",
   "execution_count": 23,
   "id": "d11120f9",
   "metadata": {},
   "outputs": [],
   "source": [
    "df = df[(df[\"Released_Year\"] >= 1900) & (df[\"Released_Year\"] <= 2025)]  # Keep valid years only"
   ]
  },
  {
   "cell_type": "code",
   "execution_count": 24,
   "id": "ecafc5ad",
   "metadata": {},
   "outputs": [
    {
     "name": "stdout",
     "output_type": "stream",
     "text": [
      "1920 2020\n"
     ]
    }
   ],
   "source": [
    "print(df[\"Released_Year\"].min(), df[\"Released_Year\"].max())\n"
   ]
  },
  {
   "cell_type": "code",
   "execution_count": 25,
   "id": "810ce16d",
   "metadata": {},
   "outputs": [
    {
     "name": "stdout",
     "output_type": "stream",
     "text": [
      "Empty DataFrame\n",
      "Columns: [Poster_Link, Series_Title, Released_Year, Certificate, Runtime, Genre, IMDB_Rating, Overview, Meta_score, Director, Star1, Star2, Star3, Star4, No_of_Votes, Gross, Decade]\n",
      "Index: []\n"
     ]
    }
   ],
   "source": [
    "print(df[~df[\"Released_Year\"].between(1900, 2025)])  "
   ]
  },
  {
   "cell_type": "code",
   "execution_count": 26,
   "id": "a4335a23",
   "metadata": {},
   "outputs": [
    {
     "name": "stdout",
     "output_type": "stream",
     "text": [
      "Rows before filtering: 1000\n",
      "Rows after filtering: 1000\n"
     ]
    }
   ],
   "source": [
    "print(\"Rows before filtering:\", len(df))\n",
    "df = df[(df[\"Released_Year\"] >= 1900) & (df[\"Released_Year\"] <= 2025)]\n",
    "print(\"Rows after filtering:\", len(df))"
   ]
  }
 ],
 "metadata": {
  "kernelspec": {
   "display_name": "Python 3 (ipykernel)",
   "language": "python",
   "name": "python3"
  },
  "language_info": {
   "codemirror_mode": {
    "name": "ipython",
    "version": 3
   },
   "file_extension": ".py",
   "mimetype": "text/x-python",
   "name": "python",
   "nbconvert_exporter": "python",
   "pygments_lexer": "ipython3",
   "version": "3.11.5"
  }
 },
 "nbformat": 4,
 "nbformat_minor": 5
}
